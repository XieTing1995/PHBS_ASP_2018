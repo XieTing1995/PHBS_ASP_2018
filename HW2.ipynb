{
 "cells": [
  {
   "cell_type": "markdown",
   "metadata": {},
   "source": [
    "# HW 2: Corporate Bond Pricing (due by 9.21 Fri)"
   ]
  },
  {
   "cell_type": "markdown",
   "metadata": {},
   "source": [
    "We are going to compute the price of a corporate bond (subject to default) with Monte-Carlo simulation. Assume that \n",
    "* the default time of a company follows the exponential distribution with intensity $\\lambda=$__`def_rate`__. \n",
    "* the riskfree interest rate is $r_f=$__`rf_rate`__ and the maturity of the bond is $T=$__`mat`__. \n",
    "* in the case of default, you can recover some portion ($R=$__`recovery_rate`__) of the face value.\n",
    "* the coupon is 0%, i.e., it is a zero-coupon bond.\n",
    "* the face value of the bond is 1.0\n",
    "* use compound rate for discounting; the price of the default-free bond is $e^{-r_f T}$\n",
    "\n",
    "The Problem 1 of the [2017 ASP Midterm Exam](../files/ASP2017_Midterm.pdf) will be helpful.\n",
    "\n",
    "### Instruction to upload your HW\n",
    "* Create a repository named __`PHBS_ASP`__ (and clone it to your PC)\n",
    "* Copy this file to __`PHBS_ASP_2018/HW2/HW2.ipynb`__  (Please use the same name for repository and ipynb file)\n",
    "* Adding more code.\n",
    "* Run your your code to make sure that there's no error.\n",
    "* Upload (commit and sync) your file."
   ]
  },
  {
   "cell_type": "markdown",
   "metadata": {},
   "source": [
    "### 1. First, let's create a pricing function and check the std "
   ]
  },
  {
   "cell_type": "code",
   "execution_count": null,
   "metadata": {
    "collapsed": true
   },
   "outputs": [],
   "source": [
    "import numpy as np"
   ]
  },
  {
   "cell_type": "code",
   "execution_count": null,
   "metadata": {
    "collapsed": true
   },
   "outputs": [],
   "source": [
    "def_rate = 0.1\n",
    "rf_rate = 0.03\n",
    "recovery = 0.3\n",
    "mat = 10"
   ]
  },
  {
   "cell_type": "markdown",
   "metadata": {},
   "source": []
  },
  {
   "cell_type": "code",
   "execution_count": null,
   "metadata": {},
   "outputs": [],
   "source": [
    "# First generate exponential random numbers\n",
    "# Although you can generate directly using fault_time = np.random.exponential(scale=), let's use uniform random numbers.\n",
    "n_sample = 10000\n",
    "U = np.random.uniform(size=n_sample)\n",
    "default_time = -(1/def_rate)*np.log(U)\n",
    "\n",
    "# You can check if the RNs are correct by comparing the means\n",
    "(default_time.mean(), 1/def_rate)"
   ]
  },
  {
   "cell_type": "code",
   "execution_count": null,
   "metadata": {},
   "outputs": [],
   "source": [
    "# Put your code here to price the corporate bond\n",
    "def corp_bond(mat=1, def_rate=0.03, rf_rate=0.04, recovery=0.3, n_sample=1e4):\n",
    "    U = np.random.uniform(size=int(n_sample))\n",
    "    default_time = -(1/def_rate)*np.log(U)\n",
    "    v1 = 0\n",
    "    v2 = 0\n",
    "    for df_time in default_time:\n",
    "        if df_time <= mat:\n",
    "            v1 += np.exp(-rf_rate * df_time)\n",
    "        else:\n",
    "            v2 += np.exp(-rf_rate * mat)\n",
    "    def_value = v1 * recovery / int(n_sample)\n",
    "    survive_value = v2 / int(n_sample)\n",
    "    return def_value + survive_value\n",
    "\n",
    "\n",
    "# Call your function\n",
    "print(corp_bond(mat, def_rate, rf_rate, recovery, n_sample))\n",
    "\n",
    "# Find the mean and std by calling the function 100 times. \n",
    "def MC_corp_bond(repeat_time=100):\n",
    "    vals = np.zeros(repeat_time)\n",
    "    for k in range(repeat_time):\n",
    "        vals[k] = corp_bond(mat, def_rate, rf_rate, recovery, n_sample)\n",
    "    return( [np.mean(vals), np.std(vals)] )\n"
   ]
  },
  {
   "cell_type": "code",
   "execution_count": null,
   "metadata": {},
   "outputs": [],
   "source": [
    "MC_corp_bond()"
   ]
  },
  {
   "cell_type": "code",
   "execution_count": null,
   "metadata": {},
   "outputs": [],
   "source": [
    "#Another way to calculate the expected payoff of bond：\n",
    "def default_time_norm(n_sample, def_rate):\n",
    "    U = np.random.uniform(size=int(n_sample))\n",
    "    return -(1/def_rate)*np.log(U)\n",
    "\n",
    "def corp_bond(term, mat=1, def_rate=0.03, rf_rate=0.04, recovery=0.3, n_sample=1e4):\n",
    "    v1 = 0\n",
    "    v2 = 0\n",
    "    for df_time in term:\n",
    "        if df_time <= mat:\n",
    "            v1 += np.exp(-rf_rate * df_time)\n",
    "        else:\n",
    "            v2 += np.exp(-rf_rate * mat)\n",
    "    def_value = v1 * recovery / int(n_sample)\n",
    "    survive_value = v2 / int(n_sample)\n",
    "    return def_value + survive_value\n",
    "\n",
    "corp_bond(default_time_norm(n_sample, def_rate), mat, def_rate, rf_rate, recovery, n_sample)"
   ]
  },
  {
   "cell_type": "markdown",
   "metadata": {},
   "source": [
    "### 2. Now, let's improve the function by reducing the MC variations.\n",
    "1. Use antithetic method: If `U` is uniform random variable, so is `1-U`\n",
    "2. Also shift the RNs to match the mean, `1/def_rate`"
   ]
  },
  {
   "cell_type": "code",
   "execution_count": null,
   "metadata": {},
   "outputs": [],
   "source": [
    "# For example, antithetic method mean\n",
    "n_sample = 10000\n",
    "U = np.random.uniform(size=n_sample)\n",
    "default_time = -(1/def_rate)*np.log(np.concatenate((U,1-U),axis=0))\n",
    "\n",
    "# Mean-matching means\n",
    "default_time += 1/def_rate-default_time.mean()\n",
    "(default_time.mean(), 1/def_rate)"
   ]
  },
  {
   "cell_type": "code",
   "execution_count": null,
   "metadata": {
    "collapsed": true
   },
   "outputs": [],
   "source": [
    "# No include the two new features: `antithetic` and `mean_match`\n",
    "\n",
    "def default_time_antithetic(n_sample, def_rate):\n",
    "    U = np.random.uniform(size=int(n_sample/2))\n",
    "    return -(1/def_rate)*np.log(np.concatenate((U,1-U),axis=0))\n",
    "\n",
    "def default_time_mean_match(n_sample, def_rate):\n",
    "    U = np.random.uniform(size=int(n_sample))\n",
    "    default_time = -(1/def_rate)*np.log(U)\n",
    "    default_time += 1/def_rate-default_time.mean()\n",
    "    return default_time\n",
    "\n",
    "def default_time_both(n_sample, def_rate):\n",
    "    U = np.random.uniform(size=int(n_sample/2))\n",
    "    default_time = -(1/def_rate)*np.log(np.concatenate((U,1-U),axis=0))\n",
    "    default_time += 1/def_rate-default_time.mean()\n",
    "    return default_time\n",
    "    "
   ]
  },
  {
   "cell_type": "code",
   "execution_count": null,
   "metadata": {
    "collapsed": true
   },
   "outputs": [],
   "source": [
    "def corp_bond_cv(mat=1, def_rate=0.03, rf_rate=0.04, recovery=0.3, n_sample=1e4, antithetic=True, mean_match=True):\n",
    "  \n",
    "    if (antithetic) and (mean_match):\n",
    "        return corp_bond(default_time_both(n_sample, def_rate), mat, def_rate, rf_rate, recovery, n_sample)\n",
    "    \n",
    "    if(antithetic):\n",
    "        return corp_bond(default_time_antithetic(n_sample, def_rate), mat, def_rate, rf_rate, recovery, n_sample)\n",
    "        \n",
    "    if(mean_match):\n",
    "        return corp_bond(default_time_antithetic(n_sample, def_rate), mat, def_rate, rf_rate, recovery, n_sample)\n",
    "    \n",
    "    "
   ]
  },
  {
   "cell_type": "code",
   "execution_count": null,
   "metadata": {},
   "outputs": [],
   "source": [
    "#\n",
    "print(corp_bond_cv(mat, def_rate, rf_rate, recovery, n_sample, antithetic=True, mean_match=False))\n",
    "print(corp_bond_cv(mat, def_rate, rf_rate, recovery, n_sample, antithetic=False, mean_match=True))\n",
    "print(corp_bond_cv(mat, def_rate, rf_rate, recovery, n_sample, antithetic=True, mean_match=True))"
   ]
  },
  {
   "cell_type": "code",
   "execution_count": null,
   "metadata": {},
   "outputs": [],
   "source": [
    "# Find the mean and std by calling the function 100 times for (i) antithetic (ii) mean_match and (iii) both\n",
    "\n",
    "vals1, vals2, vals3 = np.zeros(100), np.zeros(100), np.zeros(100)\n",
    "for k in range(100):\n",
    "    vals1[k] = corp_bond_cv(mat, def_rate, rf_rate, recovery, n_sample, antithetic=True, mean_match=False)\n",
    "    vals2[k] = corp_bond_cv(mat, def_rate, rf_rate, recovery, n_sample, antithetic=False, mean_match=True)\n",
    "    vals3[k] = corp_bond_cv(mat, def_rate, rf_rate, recovery, n_sample, antithetic=True, mean_match=True)\n",
    "\n",
    "print(\"antithetic:\",\"mean:\",np.mean(vals1),\",\",\"std:\",np.std(vals1))\n",
    "print(\"mean_match:\",\"mean:\",np.mean(vals2),\",\",\"std:\",np.std(vals2))  \n",
    "print(\"both: \",\"mean:\",np.mean(vals3),\",\",\"std:\",np.std(vals3))"
   ]
  },
  {
   "cell_type": "markdown",
   "metadata": {
    "collapsed": true
   },
   "source": [
    "### 3. Finally, what is the analytic value of the corporate bond? How does it compare to your MC result above?"
   ]
  },
  {
   "cell_type": "markdown",
   "metadata": {
    "collapsed": true
   },
   "source": [
    "### Put the analytic expression for the corporate bond price\n",
    "$$\\int_0^{mat} {e^{-rf}*recovery*\\lambda*e^{-\\lambda*t}}\\,{\\rm d}t + e^{(-rf-\\lambda)*mat} $$"
   ]
  },
  {
   "cell_type": "code",
   "execution_count": null,
   "metadata": {
    "collapsed": true
   },
   "outputs": [],
   "source": [
    "mat = 10\n",
    "def_rate = 0.1\n",
    "rf_rate = 0.03\n",
    "recovery = 0.3"
   ]
  },
  {
   "cell_type": "markdown",
   "metadata": {},
   "source": [
    "### subsitiue those value into the analytical expression:\n",
    "$$\\int_0^{10} {0.03*e^{-0.13*t}}\\,{\\rm d}t + e^{-0.13} $$\n",
    "### then the analytical value will be:"
   ]
  },
  {
   "cell_type": "code",
   "execution_count": null,
   "metadata": {},
   "outputs": [],
   "source": [
    "3/13*(1-np.exp(-1.3))+np.exp(-1.3)"
   ]
  },
  {
   "cell_type": "markdown",
   "metadata": {},
   "source": [
    "## 4.Conclusion:"
   ]
  },
  {
   "cell_type": "markdown",
   "metadata": {},
   "source": [
    "### The analytical value is 0.94108604306089783. After applying mean-matching method, the estimated values are  closer to the analytical value than others. \n",
    "### This may due to the process of mean matching method, when generating random numbers under this method, we can find the difference with true mean is very small.\n",
    "### In fact, when running this code:\n",
    "(default_time.mean(), 1/def_rate)"
   ]
  },
  {
   "cell_type": "markdown",
   "metadata": {},
   "source": [
    "### It only shows several results:\n",
    "(10.0, 10.0)<br />(10.000000000000002, 10.0)<br />(10.000000000000004, 10.0)<br />(9.9999999999999982, 10.0)\n",
    "### and the fisrt case shows more frequent in my runing results. We can do this generating 100 times:"
   ]
  },
  {
   "cell_type": "code",
   "execution_count": null,
   "metadata": {
    "collapsed": true
   },
   "outputs": [],
   "source": [
    "# Mean-matching means\n",
    "n_sample = 10000\n",
    "def_rate = 0.1\n",
    "U = np.random.uniform(size=n_sample)\n",
    "default_time += 1/def_rate-default_time.mean()\n",
    "print((default_time.mean(), 1/def_rate))\n",
    "\n",
    "vals = np.zeros(100)\n",
    "for k in range(100):\n",
    "    vals[k] = default_time.mean()\n",
    "    \n",
    "print([np.mean(vals), np.std(vals)] )"
   ]
  },
  {
   "cell_type": "markdown",
   "metadata": {},
   "source": [
    "### In this mean_match method, the random variables are much more closer to the true expotential distribution."
   ]
  },
  {
   "cell_type": "code",
   "execution_count": null,
   "metadata": {
    "collapsed": true
   },
   "outputs": [],
   "source": []
  },
  {
   "cell_type": "code",
   "execution_count": null,
   "metadata": {
    "collapsed": true
   },
   "outputs": [],
   "source": []
  }
 ],
 "metadata": {
  "anaconda-cloud": {},
  "kernelspec": {
   "display_name": "Python 3",
   "language": "python",
   "name": "python3"
  },
  "language_info": {
   "codemirror_mode": {
    "name": "ipython",
    "version": 3
   },
   "file_extension": ".py",
   "mimetype": "text/x-python",
   "name": "python",
   "nbconvert_exporter": "python",
   "pygments_lexer": "ipython3",
   "version": "3.6.5"
  }
 },
 "nbformat": 4,
 "nbformat_minor": 1
}
